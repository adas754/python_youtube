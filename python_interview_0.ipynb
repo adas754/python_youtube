{
  "nbformat": 4,
  "nbformat_minor": 0,
  "metadata": {
    "colab": {
      "provenance": []
    },
    "kernelspec": {
      "name": "python3",
      "display_name": "Python 3"
    },
    "language_info": {
      "name": "python"
    }
  },
  "cells": [
    {
      "cell_type": "markdown",
      "source": [
        "# What is the difference between tuple and list.\n",
        "# Tuple is immutable(cannot change) whereas list is mutable(change)\n",
        "# Tuple is much faster as comprable to list\n",
        "## Tuple () whereas list []"
      ],
      "metadata": {
        "id": "ybZe6XBJpzZK"
      }
    },
    {
      "cell_type": "code",
      "execution_count": 13,
      "metadata": {
        "colab": {
          "base_uri": "https://localhost:8080/"
        },
        "id": "R6fGgb9SptUj",
        "outputId": "97125d9f-c93b-402c-80e1-7ee893517473"
      },
      "outputs": [
        {
          "output_type": "execute_result",
          "data": {
            "text/plain": [
              "list"
            ]
          },
          "metadata": {},
          "execution_count": 13
        }
      ],
      "source": [
        "l=[1,3,7,9]\n",
        "type(l)"
      ]
    },
    {
      "cell_type": "code",
      "source": [
        "l[1]=9\n",
        "l"
      ],
      "metadata": {
        "colab": {
          "base_uri": "https://localhost:8080/"
        },
        "id": "lDLrekEhp9Xf",
        "outputId": "81b7da43-dc2e-43da-a0ea-9b41f5d6aa7c"
      },
      "execution_count": 14,
      "outputs": [
        {
          "output_type": "execute_result",
          "data": {
            "text/plain": [
              "[1, 9, 7, 9]"
            ]
          },
          "metadata": {},
          "execution_count": 14
        }
      ]
    },
    {
      "cell_type": "code",
      "source": [
        "t=(1,8,9)\n",
        "#t[1]=3\n",
        "t\n"
      ],
      "metadata": {
        "colab": {
          "base_uri": "https://localhost:8080/"
        },
        "id": "1PgH9E2zqGV3",
        "outputId": "443619f6-0556-4f10-8016-9107c34b276b"
      },
      "execution_count": 16,
      "outputs": [
        {
          "output_type": "execute_result",
          "data": {
            "text/plain": [
              "(1, 8, 9)"
            ]
          },
          "metadata": {},
          "execution_count": 16
        }
      ]
    },
    {
      "cell_type": "markdown",
      "source": [
        "# Given a list of numbers containing the duplicates, remove the duplicate elements from the list.\n",
        "## list2 = [1, 2, 4, 2, 5, 7, 5, 8, 12, 7]\n",
        "## expected output = [1, 2, 4, 5, 7, 8, 12]\n"
      ],
      "metadata": {
        "id": "4TgAt61jrUbu"
      }
    },
    {
      "cell_type": "code",
      "source": [
        "list2 = [1, 2, 4, 2, 5, 7, 5, 8, 12, 7]\n",
        "\n",
        "def remo_dup(list2):\n",
        "  return(list(set(list2)))\n",
        "print(remo_dup(list2))"
      ],
      "metadata": {
        "colab": {
          "base_uri": "https://localhost:8080/"
        },
        "id": "jTGOptBHqNNx",
        "outputId": "c8f4bbb7-066a-4f63-d1fa-2416b4dc1ff4"
      },
      "execution_count": 17,
      "outputs": [
        {
          "output_type": "stream",
          "name": "stdout",
          "text": [
            "[1, 2, 4, 5, 7, 8, 12]\n"
          ]
        }
      ]
    },
    {
      "cell_type": "markdown",
      "source": [
        "# Given a string, reverse it.\n"
      ],
      "metadata": {
        "id": "6t1MG-ONr9CU"
      }
    },
    {
      "cell_type": "code",
      "source": [
        "s1=\"munai\"\n",
        "def rev_str(s1):\n",
        "  return s1[::-1]\n",
        "rev_str(s1)"
      ],
      "metadata": {
        "colab": {
          "base_uri": "https://localhost:8080/",
          "height": 35
        },
        "id": "B48T3yZor1mD",
        "outputId": "33aba159-bcfa-400b-a938-48601ec1cbf4"
      },
      "execution_count": 18,
      "outputs": [
        {
          "output_type": "execute_result",
          "data": {
            "text/plain": [
              "'ianum'"
            ],
            "application/vnd.google.colaboratory.intrinsic+json": {
              "type": "string"
            }
          },
          "metadata": {},
          "execution_count": 18
        }
      ]
    },
    {
      "cell_type": "markdown",
      "source": [
        "# Given a string, check whether the string is palindromic or not.\n"
      ],
      "metadata": {
        "id": "LIYDT0Uosdgu"
      }
    },
    {
      "cell_type": "code",
      "source": [
        "s1='momo'\n",
        "def pal_str(s1):\n",
        "  return s1==s1[::-1]\n",
        "print(pal_str(s1))"
      ],
      "metadata": {
        "colab": {
          "base_uri": "https://localhost:8080/"
        },
        "id": "7gozLXa_sQUa",
        "outputId": "ac1eab11-40ae-4d1a-9b57-3ed60c5c7c5f"
      },
      "execution_count": 22,
      "outputs": [
        {
          "output_type": "stream",
          "name": "stdout",
          "text": [
            "False\n"
          ]
        }
      ]
    },
    {
      "cell_type": "markdown",
      "source": [
        "# Difference between shallow copy and deep copy\n"
      ],
      "metadata": {
        "id": "4C_J5Ycrs_jC"
      }
    },
    {
      "cell_type": "code",
      "source": [
        "##shallow copy\n",
        "import copy\n",
        "l1=[[1,2,3],[4,5,6]]\n",
        "l2=copy.copy(l1)\n",
        "l2[0][2]=10\n",
        "l1"
      ],
      "metadata": {
        "colab": {
          "base_uri": "https://localhost:8080/"
        },
        "id": "DJEoxnyKssSd",
        "outputId": "42bb4575-d4ae-4caf-8b1a-01cce7baf816"
      },
      "execution_count": 25,
      "outputs": [
        {
          "output_type": "execute_result",
          "data": {
            "text/plain": [
              "[[1, 2, 10], [4, 5, 6]]"
            ]
          },
          "metadata": {},
          "execution_count": 25
        }
      ]
    },
    {
      "cell_type": "code",
      "source": [
        "l2"
      ],
      "metadata": {
        "colab": {
          "base_uri": "https://localhost:8080/"
        },
        "id": "seOgbhZntaTs",
        "outputId": "ddf0ae34-4d1a-42ce-b8e3-179f158ec30b"
      },
      "execution_count": 26,
      "outputs": [
        {
          "output_type": "execute_result",
          "data": {
            "text/plain": [
              "[[1, 2, 10], [4, 5, 6]]"
            ]
          },
          "metadata": {},
          "execution_count": 26
        }
      ]
    },
    {
      "cell_type": "code",
      "source": [
        "##deep copy\n",
        "l3=copy.deepcopy(l1)\n",
        "l3[0][1]=20\n",
        "l1"
      ],
      "metadata": {
        "colab": {
          "base_uri": "https://localhost:8080/"
        },
        "id": "6AfMeS7itcMT",
        "outputId": "0cec4c39-6db4-456c-c2d4-8d2cdf5f3f87"
      },
      "execution_count": 28,
      "outputs": [
        {
          "output_type": "execute_result",
          "data": {
            "text/plain": [
              "[[1, 2, 10], [4, 5, 6]]"
            ]
          },
          "metadata": {},
          "execution_count": 28
        }
      ]
    },
    {
      "cell_type": "markdown",
      "source": [
        "# How do you handle exceptions in Python?\n"
      ],
      "metadata": {
        "id": "YvycyaZJuABt"
      }
    },
    {
      "cell_type": "code",
      "source": [
        "try:\n",
        "  x=1/0\n",
        "except ZeroDivisionError:\n",
        "  print(\"You can't divide by zero\")\n"
      ],
      "metadata": {
        "colab": {
          "base_uri": "https://localhost:8080/"
        },
        "id": "WA8wQI1Et5Hy",
        "outputId": "5736dbdb-6d1b-4488-b713-087d085a65e8"
      },
      "execution_count": 29,
      "outputs": [
        {
          "output_type": "stream",
          "name": "stdout",
          "text": [
            "You can't divide by zero\n"
          ]
        }
      ]
    },
    {
      "cell_type": "markdown",
      "source": [
        "# What is lambda functions in Python\n"
      ],
      "metadata": {
        "id": "gS37WVpcuaFy"
      }
    },
    {
      "cell_type": "code",
      "source": [
        "add=lambda a,b: a+b\n",
        "print(add(2,3))"
      ],
      "metadata": {
        "colab": {
          "base_uri": "https://localhost:8080/"
        },
        "id": "XC1A7gbruWMi",
        "outputId": "ebbe3902-400e-4de5-af55-cab011fc68af"
      },
      "execution_count": 31,
      "outputs": [
        {
          "output_type": "stream",
          "name": "stdout",
          "text": [
            "5\n"
          ]
        }
      ]
    },
    {
      "cell_type": "markdown",
      "source": [
        "# What is list comprehension in Python\n"
      ],
      "metadata": {
        "id": "t7jctqrqusfB"
      }
    },
    {
      "cell_type": "code",
      "source": [
        "squ=[x**2 for x in range(10)]\n",
        "print(squ)"
      ],
      "metadata": {
        "colab": {
          "base_uri": "https://localhost:8080/"
        },
        "id": "CZxEKGFzujE5",
        "outputId": "08efd488-f998-452a-9f36-a7393a5f0efe"
      },
      "execution_count": 32,
      "outputs": [
        {
          "output_type": "stream",
          "name": "stdout",
          "text": [
            "[0, 1, 4, 9, 16, 25, 36, 49, 64, 81]\n"
          ]
        }
      ]
    },
    {
      "cell_type": "markdown",
      "source": [
        "# Count the number of times a particular character appears in a string\n"
      ],
      "metadata": {
        "id": "bbwxRt_Eu8Zk"
      }
    },
    {
      "cell_type": "code",
      "source": [
        "str=\"munaiiii\"\n",
        "def  count_char(str,ch):\n",
        "  return str.count(ch)\n",
        "print(count_char(str,'i'))\n"
      ],
      "metadata": {
        "colab": {
          "base_uri": "https://localhost:8080/"
        },
        "id": "eJ5_EAVuu5F_",
        "outputId": "83f3bd41-cd33-49a9-e32d-f2dd183690a2"
      },
      "execution_count": 36,
      "outputs": [
        {
          "output_type": "stream",
          "name": "stdout",
          "text": [
            "4\n"
          ]
        }
      ]
    },
    {
      "cell_type": "markdown",
      "source": [
        "# Given two sorted list, merge both of them and create another sorted list.\n"
      ],
      "metadata": {
        "id": "GUs26mypwmu_"
      }
    },
    {
      "cell_type": "code",
      "source": [
        "list1 = [1, 3, 7]\n",
        "list2 = [2, 5, 6]\n",
        "sorted_list=sorted(list1+list2)\n",
        "sorted_list\n",
        "## expected output = [1, 2, 3, 5, 6, 7]\n",
        "## write your own code\n",
        "## approach 1: sorted(list1 + list2"
      ],
      "metadata": {
        "colab": {
          "base_uri": "https://localhost:8080/"
        },
        "id": "ldApwZPwwYMx",
        "outputId": "f95b8134-a300-4448-d2fe-90ef0ac9f1f7"
      },
      "execution_count": 37,
      "outputs": [
        {
          "output_type": "execute_result",
          "data": {
            "text/plain": [
              "[1, 2, 3, 5, 6, 7]"
            ]
          },
          "metadata": {},
          "execution_count": 37
        }
      ]
    },
    {
      "cell_type": "code",
      "source": [],
      "metadata": {
        "id": "80EHAlmKxCbU"
      },
      "execution_count": null,
      "outputs": []
    }
  ]
}