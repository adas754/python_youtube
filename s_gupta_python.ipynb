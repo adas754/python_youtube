{
  "nbformat": 4,
  "nbformat_minor": 0,
  "metadata": {
    "colab": {
      "provenance": []
    },
    "kernelspec": {
      "name": "python3",
      "display_name": "Python 3"
    },
    "language_info": {
      "name": "python"
    }
  },
  "cells": [
    {
      "cell_type": "markdown",
      "source": [
        "# Python program 30 : Write a Python function to multiply all the numbers in a list"
      ],
      "metadata": {
        "id": "MrS8O6G-1MPH"
      }
    },
    {
      "cell_type": "code",
      "source": [
        "def mul(num):\n",
        "  a=1\n",
        "  for i in num:\n",
        "    a=a*i\n",
        "  return a\n",
        "print(mul([5,2,10,5]))"
      ],
      "metadata": {
        "colab": {
          "base_uri": "https://localhost:8080/"
        },
        "id": "iV2ZEfDZ1Xtq",
        "outputId": "c7b9a51d-d226-4952-e8ed-ae9be089cfd8"
      },
      "execution_count": 3,
      "outputs": [
        {
          "output_type": "stream",
          "name": "stdout",
          "text": [
            "500\n"
          ]
        }
      ]
    },
    {
      "cell_type": "markdown",
      "source": [
        "# Python Program : 29 Write a Python function to calculate the factorial"
      ],
      "metadata": {
        "id": "yNFJlJKMnGpG"
      }
    },
    {
      "cell_type": "code",
      "source": [
        "def fac(num):\n",
        "  if num==0:\n",
        "    return 1\n",
        "  else:\n",
        "    return num*fac(num-1)\n",
        "num=int(input(\"Enter the number :\"))\n",
        "print(fac(num))"
      ],
      "metadata": {
        "colab": {
          "base_uri": "https://localhost:8080/"
        },
        "id": "uUHeXaBGnQ0g",
        "outputId": "b91f081f-b40b-41bb-aeae-056125bff3aa"
      },
      "execution_count": null,
      "outputs": [
        {
          "output_type": "stream",
          "name": "stdout",
          "text": [
            "Enter the number :5\n",
            "120\n"
          ]
        }
      ]
    },
    {
      "cell_type": "markdown",
      "source": [
        "# Python program 28 Python program to create the multiplication table (from 1 to 10) of a number"
      ],
      "metadata": {
        "id": "2UVSVQpCj-rw"
      }
    },
    {
      "cell_type": "code",
      "source": [
        "num=int(input(\"Enter the number for multiplication \"))\n",
        "for i in range(1,11):\n",
        "  print(num,'x',i,\"=\",num*i)"
      ],
      "metadata": {
        "colab": {
          "base_uri": "https://localhost:8080/"
        },
        "id": "l1E60wKykT0j",
        "outputId": "41c35de0-e7c3-4ed0-b257-a4d0ce25ace4"
      },
      "execution_count": null,
      "outputs": [
        {
          "output_type": "stream",
          "name": "stdout",
          "text": [
            "Enter the number for multiplication 1\n",
            "1 x 1 = 1\n",
            "1 x 2 = 2\n",
            "1 x 3 = 3\n",
            "1 x 4 = 4\n",
            "1 x 5 = 5\n",
            "1 x 6 = 6\n",
            "1 x 7 = 7\n",
            "1 x 8 = 8\n",
            "1 x 9 = 9\n",
            "1 x 10 = 10\n"
          ]
        }
      ]
    },
    {
      "cell_type": "code",
      "source": [
        "def print_multiplication_table(num):\n",
        "  for i in range(1,11):\n",
        "    print(num,'x',i,\"=\",num*i)\n",
        "num=int(input(\"Enter the number of multiplication\"))\n",
        "print_multiplication_table(num)"
      ],
      "metadata": {
        "colab": {
          "base_uri": "https://localhost:8080/"
        },
        "id": "ruZcNKclmeds",
        "outputId": "74815eb1-c805-4681-ee18-c19748078d0a"
      },
      "execution_count": null,
      "outputs": [
        {
          "output_type": "stream",
          "name": "stdout",
          "text": [
            "Enter the number of multiplication1\n",
            "1 x 1 = 1\n",
            "1 x 2 = 2\n",
            "1 x 3 = 3\n",
            "1 x 4 = 4\n",
            "1 x 5 = 5\n",
            "1 x 6 = 6\n",
            "1 x 7 = 7\n",
            "1 x 8 = 8\n",
            "1 x 9 = 9\n",
            "1 x 10 = 10\n"
          ]
        }
      ]
    },
    {
      "cell_type": "markdown",
      "source": [
        "# Python program 27 : Python program to check whether an alphabet is a vowel or consonant"
      ],
      "metadata": {
        "id": "juYRZEJoSvbO"
      }
    },
    {
      "cell_type": "code",
      "source": [
        "letter=input(\"Enter a character to check :\")\n",
        "if letter=='a'or letter=='e' or letter=='i' or letter=='o' or letter=='u':\n",
        "  print(f'{letter} is a vowel')\n",
        "else:\n",
        "  print(f\"{letter} is consonent\")"
      ],
      "metadata": {
        "colab": {
          "base_uri": "https://localhost:8080/"
        },
        "id": "cc_KM9IGS9QQ",
        "outputId": "051a2ca3-e87a-4473-f6c4-7c8a99e4e33e"
      },
      "execution_count": null,
      "outputs": [
        {
          "output_type": "stream",
          "name": "stdout",
          "text": [
            "Enter a character to check :m\n",
            "m is consonent\n"
          ]
        }
      ]
    },
    {
      "cell_type": "code",
      "source": [
        "def check_vowel_consonent(letter):\n",
        "  if letter.lower() in['a','e','i','o','u']:\n",
        "    return f\"{letter} is vowel\"\n",
        "  else:\n",
        "    return f\"{letter} is consonent\"\n",
        "letter=input(\"Enter to check \")\n",
        "result=check_vowel_consonent(letter)\n",
        "print(result)"
      ],
      "metadata": {
        "colab": {
          "base_uri": "https://localhost:8080/"
        },
        "id": "QS4fQshDeF3Q",
        "outputId": "75b33055-3f4a-4ac2-eb9a-01a199eb5e0e"
      },
      "execution_count": null,
      "outputs": [
        {
          "output_type": "stream",
          "name": "stdout",
          "text": [
            "Enter to check m\n",
            "m is consonent\n"
          ]
        }
      ]
    },
    {
      "cell_type": "markdown",
      "source": [
        "# Python program 26 program that accepts a string and calculate the number of digits and letters"
      ],
      "metadata": {
        "id": "DLRJDiG0XqfK"
      }
    },
    {
      "cell_type": "code",
      "execution_count": null,
      "metadata": {
        "colab": {
          "base_uri": "https://localhost:8080/"
        },
        "id": "8AKv0kCfT03J",
        "outputId": "751705e2-f1e0-48ce-888c-5433b5902b6f"
      },
      "outputs": [
        {
          "output_type": "stream",
          "name": "stdout",
          "text": [
            "Enter a string python768\n",
            "number of digits 3\n",
            "number of letters 6\n"
          ]
        }
      ],
      "source": [
        "def count_digit_letters(string):\n",
        "  digit_count=0\n",
        "  letter_count=0\n",
        "  for char in string:\n",
        "    if char.isdigit():\n",
        "      digit_count+=1\n",
        "    elif char.isalpha():\n",
        "      letter_count+=1\n",
        "  return digit_count,letter_count\n",
        "input_string=input(\"Enter a string \")\n",
        "digits,letters=count_digit_letters(input_string)\n",
        "print('number of digits',digits)\n",
        "print('number of letters',letters)"
      ]
    },
    {
      "cell_type": "markdown",
      "source": [
        "# Python program 25 :Python program to count number of even and odd numbers from a series of numbers."
      ],
      "metadata": {
        "id": "vZnn1YvSX-UJ"
      }
    },
    {
      "cell_type": "code",
      "source": [
        "def count_even_odd(numbers):\n",
        "  even_num=0\n",
        "  odd_num=0\n",
        "  for num in numbers:\n",
        "    if num%2==0:\n",
        "      even_num+=1\n",
        "    else:\n",
        "      odd_num+=1\n",
        "  return even_num,odd_num\n",
        "numbers=[1,2,3,4,5,6,7,8,9,10]\n",
        "even,odd=count_even_odd(numbers)\n",
        "print(\"even numbers\",even)\n",
        "print(\"odd numbers\",odd)"
      ],
      "metadata": {
        "id": "_vn1ig_sXBBs",
        "colab": {
          "base_uri": "https://localhost:8080/"
        },
        "outputId": "382f2038-c204-4a72-b50e-148b5f28c3a9"
      },
      "execution_count": null,
      "outputs": [
        {
          "output_type": "stream",
          "name": "stdout",
          "text": [
            "even numbers 5\n",
            "odd numbers 5\n"
          ]
        }
      ]
    },
    {
      "cell_type": "markdown",
      "source": [
        "# Python program : 24 Python program that accepts a word from the user and reverse it.(3 ways to solve)"
      ],
      "metadata": {
        "id": "6g8tfIhA0Ldg"
      }
    },
    {
      "cell_type": "code",
      "source": [
        "#1st way\n",
        "def reverse_word(word):\n",
        "  reverse_word=\"\"\n",
        "  for char in word:\n",
        "    reverse_word=char+reverse_word\n",
        "  return reverse_word\n",
        "user_input=input(\"Enter the word :\")\n",
        "reversed_input=reverse_word(user_input)\n",
        "print(\"After reversing word\",reversed_input)"
      ],
      "metadata": {
        "colab": {
          "base_uri": "https://localhost:8080/"
        },
        "id": "tdXxKN1_3fJ1",
        "outputId": "0f78c2e6-4747-4e6d-a4ce-8a065958aa86"
      },
      "execution_count": null,
      "outputs": [
        {
          "output_type": "stream",
          "name": "stdout",
          "text": [
            "Enter the word :python\n",
            "After reversing word nohtyp\n"
          ]
        }
      ]
    },
    {
      "cell_type": "code",
      "source": [
        "#2nd way\n",
        "def reverse_word(word):\n",
        "  reversed_word=word[::-1]\n",
        "  return reversed_word\n",
        "user_input=input(\"Enter a string :\")\n",
        "rev_word=reverse_word(user_input)\n",
        "print(\"After reversing :\",rev_word)"
      ],
      "metadata": {
        "colab": {
          "base_uri": "https://localhost:8080/"
        },
        "id": "HnPP2RgO4LKe",
        "outputId": "e9f20428-645b-4b6b-bd65-74d6fdf55eea"
      },
      "execution_count": null,
      "outputs": [
        {
          "output_type": "stream",
          "name": "stdout",
          "text": [
            "Enter a string :coding\n",
            "After reversing : gnidoc\n"
          ]
        }
      ]
    },
    {
      "cell_type": "code",
      "source": [
        "#3rd way\n",
        "def rev_word(word):\n",
        "  reverse_word=\"\"\n",
        "  word_length=len(word)\n",
        "  for i in range(word_length-1,-1,-1):\n",
        "    reverse_word+=word[i]\n",
        "  return reverse_word\n",
        "user_input=input(\"Enter a string :\")\n",
        "reversed_word=rev_word(user_input)\n",
        "print(\"After reversing final string :\",reversed_word)\n"
      ],
      "metadata": {
        "colab": {
          "base_uri": "https://localhost:8080/"
        },
        "id": "s-pc5CQU5PuE",
        "outputId": "d60cf52d-89fb-4e58-820b-cea11e638fe2"
      },
      "execution_count": null,
      "outputs": [
        {
          "output_type": "stream",
          "name": "stdout",
          "text": [
            "Enter a string :munai\n",
            "After reversing final string : ianum\n"
          ]
        }
      ]
    },
    {
      "cell_type": "markdown",
      "source": [
        "# Python program 23 find those numbers which are divisible by 7 and multiple of 5 between 1500 and 2700"
      ],
      "metadata": {
        "id": "WBf1yi087UR2"
      }
    },
    {
      "cell_type": "code",
      "source": [
        "#without using function\n",
        "a=[]\n",
        "for i in range(1500,2701):\n",
        "  if (i%7==0)and(i%5==0):\n",
        "    a.append(str(i))\n",
        "print(a)"
      ],
      "metadata": {
        "colab": {
          "base_uri": "https://localhost:8080/"
        },
        "id": "ckt12OKb7AYF",
        "outputId": "a265cfeb-3c00-422c-dbef-a4612ae9564b"
      },
      "execution_count": null,
      "outputs": [
        {
          "output_type": "stream",
          "name": "stdout",
          "text": [
            "['1505', '1540', '1575', '1610', '1645', '1680', '1715', '1750', '1785', '1820', '1855', '1890', '1925', '1960', '1995', '2030', '2065', '2100', '2135', '2170', '2205', '2240', '2275', '2310', '2345', '2380', '2415', '2450', '2485', '2520', '2555', '2590', '2625', '2660', '2695']\n"
          ]
        }
      ]
    },
    {
      "cell_type": "code",
      "source": [
        "#with using function\n",
        "def find_numbers():\n",
        "  numbers=[]\n",
        "  for num in range(1500,2701):\n",
        "    if num%7==0 and num%5==0:\n",
        "      numbers.append(num)\n",
        "  return numbers\n",
        "result=find_numbers()\n",
        "print('Numbers divisible by 7 and multiply by 5 between 1500 and 2701 ')\n",
        "print(result)"
      ],
      "metadata": {
        "colab": {
          "base_uri": "https://localhost:8080/"
        },
        "id": "4q20KplW-gQM",
        "outputId": "3ed8750f-cdc0-4709-9b63-bd63ebea4d4f"
      },
      "execution_count": null,
      "outputs": [
        {
          "output_type": "stream",
          "name": "stdout",
          "text": [
            "Numbers divisible by 7 and multiply by 5 between 1500 and 2701 \n",
            "[1505, 1540, 1575, 1610, 1645, 1680, 1715, 1750, 1785, 1820, 1855, 1890, 1925, 1960, 1995, 2030, 2065, 2100, 2135, 2170, 2205, 2240, 2275, 2310, 2345, 2380, 2415, 2450, 2485, 2520, 2555, 2590, 2625, 2660, 2695]\n"
          ]
        }
      ]
    },
    {
      "cell_type": "markdown",
      "source": [
        "# Python program 22 : Python program to select the odd items of a list."
      ],
      "metadata": {
        "id": "yTxFeHRVX0mk"
      }
    },
    {
      "cell_type": "code",
      "source": [
        "def select_odd_items(lst):\n",
        "  odd_items=[]\n",
        "  for item in lst:\n",
        "    if item%2!=0:\n",
        "      odd_items.append(item)\n",
        "  return odd_items\n",
        "my_list=[1,2,3,4,5,6,7,8,9,10]\n",
        "result=select_odd_items(my_list)\n",
        "print(result)\n",
        "\n"
      ],
      "metadata": {
        "id": "51D9ejLJ-cwr",
        "colab": {
          "base_uri": "https://localhost:8080/"
        },
        "outputId": "3a926bc0-0c66-4706-cf59-dc55f41c446b"
      },
      "execution_count": null,
      "outputs": [
        {
          "output_type": "stream",
          "name": "stdout",
          "text": [
            "[1, 3, 5, 7, 9]\n"
          ]
        }
      ]
    },
    {
      "cell_type": "markdown",
      "source": [
        "# Python program 21 Fun that takes two lists and returns True if they have at least one common member.\n"
      ],
      "metadata": {
        "id": "qZe1ithNkI6v"
      }
    },
    {
      "cell_type": "code",
      "source": [
        "def check_number(list_1,list_2):\n",
        "  final=False\n",
        "  for i in list_1:\n",
        "    for j in list_2:\n",
        "      if i==j:\n",
        "        final=True\n",
        "        return final\n",
        "print(check_number([1,2,3,4,5],[5,6,7,8,9]))"
      ],
      "metadata": {
        "colab": {
          "base_uri": "https://localhost:8080/"
        },
        "id": "iC4HCroSZh4r",
        "outputId": "4c0fbc12-e464-47be-9c4d-e404c4507223"
      },
      "execution_count": null,
      "outputs": [
        {
          "output_type": "stream",
          "name": "stdout",
          "text": [
            "True\n"
          ]
        }
      ]
    },
    {
      "cell_type": "markdown",
      "source": [
        "# Python program 20 Program to find the list of words that are longer than n from a given list of word"
      ],
      "metadata": {
        "id": "kmyMyy14oJBG"
      }
    },
    {
      "cell_type": "code",
      "source": [
        "def check_len(n,my_str):\n",
        "  len_char=[]\n",
        "  words=my_str.split(\" \")\n",
        "  for i in words:\n",
        "    if len(i)>n:\n",
        "      len_char.append(i)\n",
        "  return len_char\n",
        "print(check_len(3,'python is easy programming lanuage to learn'))\n"
      ],
      "metadata": {
        "colab": {
          "base_uri": "https://localhost:8080/"
        },
        "id": "QjUTnV4Sj1Rk",
        "outputId": "42285d2d-4c08-4c62-9dbf-abb612974b0c"
      },
      "execution_count": null,
      "outputs": [
        {
          "output_type": "stream",
          "name": "stdout",
          "text": [
            "['python', 'easy', 'programming', 'lanuage', 'learn']\n"
          ]
        }
      ]
    },
    {
      "cell_type": "markdown",
      "source": [
        "# Python Program 19 Python program to remove duplicates from a list."
      ],
      "metadata": {
        "id": "hFRuClMOh16q"
      }
    },
    {
      "cell_type": "code",
      "source": [
        "def remove_duplicate(input_list):\n",
        "  return list(set(input_list))\n",
        "input_list=[1, 2, 3, 4, 2, 1, 5, 4, 6]\n",
        "result=remove_duplicate(input_list)\n",
        "print(result)"
      ],
      "metadata": {
        "id": "l183OSWZnbdU",
        "colab": {
          "base_uri": "https://localhost:8080/"
        },
        "outputId": "0330971b-b28b-434e-df21-d2f0b8eacb24"
      },
      "execution_count": null,
      "outputs": [
        {
          "output_type": "stream",
          "name": "stdout",
          "text": [
            "[1, 2, 3, 4, 5, 6]\n"
          ]
        }
      ]
    },
    {
      "cell_type": "markdown",
      "source": [
        "# Python program 18 Python program to count the number of characters (character frequency) in a string"
      ],
      "metadata": {
        "id": "aW8lnJCplHwB"
      }
    },
    {
      "cell_type": "code",
      "source": [
        "def freq(my_str):\n",
        "  d1={}\n",
        "  for i in my_str:\n",
        "    key_d1=dict.keys(d1)\n",
        "    if i in key_d1:\n",
        "      d1[i]+=1\n",
        "    else:\n",
        "      d1[i]=1\n",
        "  return(d1)\n",
        "print(freq('programming'))"
      ],
      "metadata": {
        "colab": {
          "base_uri": "https://localhost:8080/"
        },
        "id": "iVV03t1kk5dn",
        "outputId": "68a8516f-9c7b-44ed-e81a-5ca5cd8b0e0b"
      },
      "execution_count": null,
      "outputs": [
        {
          "output_type": "stream",
          "name": "stdout",
          "text": [
            "{'p': 1, 'r': 2, 'o': 1, 'g': 2, 'a': 1, 'm': 2, 'i': 1, 'n': 1}\n"
          ]
        }
      ]
    },
    {
      "cell_type": "markdown",
      "source": [
        "# Python program 17 : Python program to sum all the items in a list"
      ],
      "metadata": {
        "id": "mICWV-44oFgk"
      }
    },
    {
      "cell_type": "code",
      "source": [
        "def list_add(list_1):\n",
        "  a=0\n",
        "  for i in list_1:\n",
        "    a=a+i\n",
        "  return a\n",
        "print(list_add([1,2,3,4,5]))"
      ],
      "metadata": {
        "colab": {
          "base_uri": "https://localhost:8080/"
        },
        "id": "fBp7RrwSm-Bm",
        "outputId": "96fcbcf3-86a6-48be-936b-19619ff78d2d"
      },
      "execution_count": null,
      "outputs": [
        {
          "output_type": "stream",
          "name": "stdout",
          "text": [
            "15\n"
          ]
        }
      ]
    },
    {
      "cell_type": "markdown",
      "source": [
        "# Python program 16 program to get a string where first char have been changed to '$'."
      ],
      "metadata": {
        "id": "cBJ9gjWMqP9L"
      }
    },
    {
      "cell_type": "code",
      "source": [
        "def replace_char(a):\n",
        "  b=a[0]\n",
        "  a=a.replace(b,'$')\n",
        "  a=b+a[1:]\n",
        "  return a\n",
        "print(replace_char('madam'))"
      ],
      "metadata": {
        "colab": {
          "base_uri": "https://localhost:8080/"
        },
        "id": "jPrc3AHvpo41",
        "outputId": "1f188317-f4f3-43f1-ad6a-5c9a83ac077e"
      },
      "execution_count": null,
      "outputs": [
        {
          "output_type": "stream",
          "name": "stdout",
          "text": [
            "mada$\n"
          ]
        }
      ]
    },
    {
      "cell_type": "markdown",
      "source": [
        "# Python program15 : Python script that takes input and displays that input back in upper, lower cases"
      ],
      "metadata": {
        "id": "hdTzXpFju18J"
      }
    },
    {
      "cell_type": "code",
      "source": [
        "def display_cases(input_string):\n",
        "  print(\"original input\",input_string)\n",
        "  print(\"upper case\",input_string.upper())\n",
        "  print(\"lower case\",input_string.lower())\n",
        "user_input=input(\"Enter a string \")\n",
        "display_cases(user_input)"
      ],
      "metadata": {
        "colab": {
          "base_uri": "https://localhost:8080/"
        },
        "id": "CLnpBsmDtYmU",
        "outputId": "b335e7e9-bde9-4c10-9912-da5d64d7d6b7"
      },
      "execution_count": null,
      "outputs": [
        {
          "output_type": "stream",
          "name": "stdout",
          "text": [
            "Enter a string munai\n",
            "original input munai\n",
            "upper case MUNAI\n",
            "lower case munai\n"
          ]
        }
      ]
    },
    {
      "cell_type": "markdown",
      "source": [
        "# Python Program 14 :Program for checking whether a string is palindrome or not"
      ],
      "metadata": {
        "id": "L-D6cUBgwd0P"
      }
    },
    {
      "cell_type": "code",
      "source": [
        "def is_palindrom(s):\n",
        "  return s==s[::-1]\n",
        "\n",
        "string=input(\"Enter a string \")\n",
        "is_palindrom(string)"
      ],
      "metadata": {
        "colab": {
          "base_uri": "https://localhost:8080/"
        },
        "id": "rsLHDSBAwRp8",
        "outputId": "e89953c7-72bf-42e6-b934-f416ea9950f1"
      },
      "execution_count": null,
      "outputs": [
        {
          "name": "stdout",
          "output_type": "stream",
          "text": [
            "Enter a string munu\n"
          ]
        },
        {
          "output_type": "execute_result",
          "data": {
            "text/plain": [
              "False"
            ]
          },
          "metadata": {},
          "execution_count": 16
        }
      ]
    },
    {
      "cell_type": "markdown",
      "source": [
        "# python Program 13 : Check if a string has at least one letter and one number"
      ],
      "metadata": {
        "id": "sZN6BHOkxkxi"
      }
    },
    {
      "cell_type": "code",
      "source": [
        "def str_check(my_str):\n",
        "  a=False\n",
        "  b=False\n",
        "  for i in my_str:\n",
        "    if i.isalpha()==True:\n",
        "      a=True\n",
        "    if i.isdigit()==True:\n",
        "      b=True\n",
        "  return a and b\n",
        "print(str_check('munai89'))"
      ],
      "metadata": {
        "colab": {
          "base_uri": "https://localhost:8080/"
        },
        "id": "Da3DPut7xDHc",
        "outputId": "a56b1ffb-a77e-4a4c-c839-cddae43e334b"
      },
      "execution_count": null,
      "outputs": [
        {
          "output_type": "stream",
          "name": "stdout",
          "text": [
            "True\n"
          ]
        }
      ]
    },
    {
      "cell_type": "markdown",
      "source": [
        "# Python Question 12 : Compute sum of digits of a given string\n"
      ],
      "metadata": {
        "id": "fKl4PZgS05oT"
      }
    },
    {
      "cell_type": "code",
      "source": [
        "def sum_of_digit(string):\n",
        "  digit_sum=0\n",
        "  for char in string:\n",
        "    if char.isdigit():\n",
        "      digit_sum+=int(char)\n",
        "  return digit_sum\n",
        "input_string=input(\"Enter a string : \")\n",
        "result=sum_of_digit(input_string)\n",
        "print(result)"
      ],
      "metadata": {
        "colab": {
          "base_uri": "https://localhost:8080/"
        },
        "id": "Sq98gYTv0tKG",
        "outputId": "a8ccc326-3545-45dc-cd6a-bbcb95162358"
      },
      "execution_count": null,
      "outputs": [
        {
          "output_type": "stream",
          "name": "stdout",
          "text": [
            "Enter a string : munai987\n",
            "24\n"
          ]
        }
      ]
    },
    {
      "cell_type": "markdown",
      "source": [
        "# Python Question 11: Sort a string lexicographically using python\n"
      ],
      "metadata": {
        "id": "6dZ1SVHE6PP-"
      }
    },
    {
      "cell_type": "code",
      "source": [
        "def sort_lexicographically(string):\n",
        "    sorted_string = ''.join(sorted(string))\n",
        "    return sorted_string\n",
        "\n",
        "input_string = input(\"Enter a string: \")\n",
        "result = sort_lexicographically(input_string)\n",
        "print(\"Lexicographically sorted string:\", result)\n"
      ],
      "metadata": {
        "colab": {
          "base_uri": "https://localhost:8080/"
        },
        "id": "TgdfWf9c5zTP",
        "outputId": "2259ccef-7d3a-4484-da09-7b04d86fba0a"
      },
      "execution_count": null,
      "outputs": [
        {
          "output_type": "stream",
          "name": "stdout",
          "text": [
            "Enter a string: python\n",
            "Lexicographically sorted string: hnopty\n"
          ]
        }
      ]
    },
    {
      "cell_type": "markdown",
      "source": [
        "# Python Question 10: Remove the characters which have odd index values of a given string"
      ],
      "metadata": {
        "id": "rqJAyUzjprIb"
      }
    },
    {
      "cell_type": "code",
      "source": [
        "def values(str):\n",
        "  a=\"\"\n",
        "  for i in range(len(str)):\n",
        "    if i%2==0:\n",
        "      a=a+str[i]\n",
        "  return a\n",
        "print(values('python'))"
      ],
      "metadata": {
        "id": "6fDPWJqV8maq",
        "colab": {
          "base_uri": "https://localhost:8080/"
        },
        "outputId": "0fda1ac9-8866-482a-e932-8dfa134bf3a0"
      },
      "execution_count": null,
      "outputs": [
        {
          "output_type": "stream",
          "name": "stdout",
          "text": [
            "pto\n"
          ]
        }
      ]
    },
    {
      "cell_type": "markdown",
      "source": [
        "# Python Question 09: Check whether a specified value is contained in a group of values"
      ],
      "metadata": {
        "id": "y7B3u3PrVacL"
      }
    },
    {
      "cell_type": "code",
      "source": [
        "def check(num,a):\n",
        "  for value in num:\n",
        "    if a==value:\n",
        "      return True\n",
        "  return False\n",
        "print(check([1,2,3,4,5,6,7],7))"
      ],
      "metadata": {
        "id": "decNVnfSrTwa",
        "colab": {
          "base_uri": "https://localhost:8080/"
        },
        "outputId": "81001d3f-218e-4060-a310-a411f6cef768"
      },
      "execution_count": null,
      "outputs": [
        {
          "output_type": "stream",
          "name": "stdout",
          "text": [
            "True\n"
          ]
        }
      ]
    },
    {
      "cell_type": "markdown",
      "source": [
        "# Python Question 08: Print out all even numbers from a given numbers list in the same order"
      ],
      "metadata": {
        "id": "pBgZFIt4YUuW"
      }
    },
    {
      "cell_type": "code",
      "source": [
        "num=[2,6,1,3,7,9,34,87,23,65,44,21,56,20,12,14,35,67,31,62,34]\n",
        "for i in num:\n",
        "  if i==20:\n",
        "    print(i)\n",
        "    break\n",
        "  elif i%2==0:\n",
        "    print(i)"
      ],
      "metadata": {
        "colab": {
          "base_uri": "https://localhost:8080/"
        },
        "id": "Fna2gJ16XJBR",
        "outputId": "de83c2d9-cd6e-41bc-cc81-5f7c242c691e"
      },
      "execution_count": null,
      "outputs": [
        {
          "output_type": "stream",
          "name": "stdout",
          "text": [
            "2\n",
            "6\n",
            "34\n",
            "44\n",
            "56\n",
            "20\n"
          ]
        }
      ]
    },
    {
      "cell_type": "code",
      "source": [
        "def print_even_until_tweenty(numbers):\n",
        "  for num in numbers:\n",
        "    if num==20:\n",
        "      print(num)\n",
        "      break\n",
        "    elif num%2==0:\n",
        "      print(num)\n",
        "num = [2, 6, 1, 3, 7, 9, 34, 87, 23, 65, 44, 21, 56, 20, 12, 14, 35, 67, 31, 62, 34]\n",
        "print_even_until_tweenty(num)"
      ],
      "metadata": {
        "colab": {
          "base_uri": "https://localhost:8080/"
        },
        "id": "XB3XRTPzbjyp",
        "outputId": "4f06073f-d6a0-4b6b-e5f8-ee19650716fc"
      },
      "execution_count": null,
      "outputs": [
        {
          "output_type": "stream",
          "name": "stdout",
          "text": [
            "2\n",
            "6\n",
            "34\n",
            "44\n",
            "56\n",
            "20\n"
          ]
        }
      ]
    },
    {
      "cell_type": "markdown",
      "source": [
        "# Python Question 07 : Program to count the number 2 in a given list"
      ],
      "metadata": {
        "id": "MLmELusPd0ku"
      }
    },
    {
      "cell_type": "code",
      "source": [
        "def count_2(num):\n",
        "  a=0\n",
        "  for i in num:\n",
        "    if i==2:\n",
        "      a=a+1\n",
        "  return a\n",
        "print(count_2([1,3,4,2,5,2,7,4,2]))"
      ],
      "metadata": {
        "colab": {
          "base_uri": "https://localhost:8080/"
        },
        "id": "N_si_LzNdXT1",
        "outputId": "0a6b57de-3c1c-42af-a648-0f3da5bef1d7"
      },
      "execution_count": null,
      "outputs": [
        {
          "output_type": "stream",
          "name": "stdout",
          "text": [
            "3\n"
          ]
        }
      ]
    },
    {
      "cell_type": "markdown",
      "source": [
        "# Python Question 06: Calculate number of days between two dates"
      ],
      "metadata": {
        "id": "vyPVH6kkh8i7"
      }
    },
    {
      "cell_type": "code",
      "source": [
        "from datetime import date\n",
        "date1=date(2021,7,12)\n",
        "date2=date(2021,7,23)\n",
        "total_days=date2-date1\n",
        "print(total_days)"
      ],
      "metadata": {
        "colab": {
          "base_uri": "https://localhost:8080/"
        },
        "id": "CY_eE55qhkEt",
        "outputId": "6403d9cc-3531-4fb1-e65e-d6dfde0a5073"
      },
      "execution_count": null,
      "outputs": [
        {
          "output_type": "stream",
          "name": "stdout",
          "text": [
            "11 days, 0:00:00\n"
          ]
        }
      ]
    },
    {
      "cell_type": "markdown",
      "source": [
        "# Python Question 05: Compute the greatest common divisor (GCD) of two positive integers\n"
      ],
      "metadata": {
        "id": "XTpfEWfvkILA"
      }
    },
    {
      "cell_type": "code",
      "source": [
        "def cal_gcd(a,b):\n",
        "  num=1\n",
        "  if a%b==0:\n",
        "    return b\n",
        "  for i in range(int(b/2),0,-1):\n",
        "    if a%i==0 and b%i==0:\n",
        "      num=i\n",
        "      break\n",
        "  return num\n",
        "print(\"gcd of 20 and 28 is\",cal_gcd(20,28))\n"
      ],
      "metadata": {
        "id": "dtWzHYSmrEKb",
        "colab": {
          "base_uri": "https://localhost:8080/"
        },
        "outputId": "69c92b04-0039-433b-fd22-e1fcd0a9a36a"
      },
      "execution_count": 4,
      "outputs": [
        {
          "output_type": "stream",
          "name": "stdout",
          "text": [
            "gcd of 20 and 28 is 4\n"
          ]
        }
      ]
    },
    {
      "cell_type": "markdown",
      "source": [
        "# Python Question 04: Get the diffrence between number and 20, if greater than 20 return three time"
      ],
      "metadata": {
        "id": "3sCaqfT969VJ"
      }
    },
    {
      "cell_type": "code",
      "source": [
        "def diff(a):\n",
        "  if a<20:\n",
        "    print(20-a)\n",
        "  else:\n",
        "    b=a-20\n",
        "    print(b*b*b)\n",
        "diff(25)"
      ],
      "metadata": {
        "colab": {
          "base_uri": "https://localhost:8080/"
        },
        "id": "KM7WM1aY5hIF",
        "outputId": "faf92122-198e-4f9a-a194-ee9695df8edc"
      },
      "execution_count": 6,
      "outputs": [
        {
          "output_type": "stream",
          "name": "stdout",
          "text": [
            "125\n"
          ]
        }
      ]
    },
    {
      "cell_type": "markdown",
      "source": [
        "# Python Question 03: Accept the user's first and last name and display them in reverse"
      ],
      "metadata": {
        "id": "Ibap6bsB9vGK"
      }
    },
    {
      "cell_type": "code",
      "source": [
        "def name_reverse(first_name,last_name):\n",
        "  print(last_name + \" \"+first_name)\n",
        "first_name=input(\"Enter the first name :\")\n",
        "last_name=input(\"Enter the last name :\")\n",
        "name_reverse(first_name,last_name)"
      ],
      "metadata": {
        "colab": {
          "base_uri": "https://localhost:8080/"
        },
        "id": "_lQEkk5u8sME",
        "outputId": "3d9903b9-d0b0-41c2-82fc-d5e53b78b10a"
      },
      "execution_count": 9,
      "outputs": [
        {
          "output_type": "stream",
          "name": "stdout",
          "text": [
            "Enter the first name :munai\n",
            "Enter the last name :das\n",
            "das munai\n"
          ]
        }
      ]
    },
    {
      "cell_type": "markdown",
      "source": [
        "#Python Question 02 : Python Program to Calculate Circle Area Based on User Input of Radius\n",
        "\n"
      ],
      "metadata": {
        "id": "B6VcHKkY--Pp"
      }
    },
    {
      "cell_type": "code",
      "source": [
        "def area_circle(r):\n",
        "  area=3.14*r*r\n",
        "  print(area)\n",
        "r=float(input(\"Enter the radius :\"))\n",
        "area_circle(r)"
      ],
      "metadata": {
        "colab": {
          "base_uri": "https://localhost:8080/"
        },
        "id": "qLf3VpcA-h0L",
        "outputId": "dd206efb-b082-47de-a325-fc90385fb005"
      },
      "execution_count": 11,
      "outputs": [
        {
          "output_type": "stream",
          "name": "stdout",
          "text": [
            "Enter the radius :12\n",
            "452.15999999999997\n"
          ]
        }
      ]
    },
    {
      "cell_type": "markdown",
      "source": [
        "# Python Practice 01 : Python Program to Display Current Date and Time | Shambhavi Gupta"
      ],
      "metadata": {
        "id": "ddIaub3JB_ta"
      }
    },
    {
      "cell_type": "code",
      "source": [
        "import datetime\n",
        "present =datetime.datetime.now()\n",
        "print('current datetime is ')\n",
        "print(present.strftime(\"%y-%m-%d %h:%m:%s\" ))"
      ],
      "metadata": {
        "colab": {
          "base_uri": "https://localhost:8080/"
        },
        "id": "QgeXXyITBNWv",
        "outputId": "603c5335-e0d8-4828-9ecd-20b66eef8160"
      },
      "execution_count": 13,
      "outputs": [
        {
          "output_type": "stream",
          "name": "stdout",
          "text": [
            "current datetime is \n",
            "23-06-26 Jun:06:1687805400\n"
          ]
        }
      ]
    },
    {
      "cell_type": "code",
      "source": [],
      "metadata": {
        "id": "ZpgprOd0CUfQ"
      },
      "execution_count": null,
      "outputs": []
    }
  ]
}